{
 "cells": [
  {
   "cell_type": "code",
   "execution_count": 1,
   "id": "d0f02792",
   "metadata": {},
   "outputs": [],
   "source": [
    "import numpy as np\n",
    "import matplotlib.pyplot as plt\n",
    "from scipy.cluster.hierarchy import dendrogram, linkage\n",
    "from scipy.spatial.distance import pdist, squareform"
   ]
  },
  {
   "cell_type": "markdown",
   "id": "9bb18017",
   "metadata": {},
   "source": [
    "### Data Points"
   ]
  },
  {
   "cell_type": "code",
   "execution_count": 2,
   "id": "248ffec3",
   "metadata": {},
   "outputs": [],
   "source": [
    "data = np.array([18, 22, 25, 42, 27, 43]).reshape(-1, 1)  # reshape for 2D array"
   ]
  },
  {
   "cell_type": "markdown",
   "id": "557ca52f",
   "metadata": {},
   "source": [
    "### Compute euclidean distance matrix"
   ]
  },
  {
   "cell_type": "code",
   "execution_count": 3,
   "id": "a1265f52",
   "metadata": {},
   "outputs": [
    {
     "name": "stdout",
     "output_type": "stream",
     "text": [
      "Distance Matrix:\n",
      " [[ 0.  4.  7. 24.  9. 25.]\n",
      " [ 4.  0.  3. 20.  5. 21.]\n",
      " [ 7.  3.  0. 17.  2. 18.]\n",
      " [24. 20. 17.  0. 15.  1.]\n",
      " [ 9.  5.  2. 15.  0. 16.]\n",
      " [25. 21. 18.  1. 16.  0.]]\n"
     ]
    }
   ],
   "source": [
    "dist_matrix = squareform(pdist(data, metric='euclidean'))\n",
    "print(\"Distance Matrix:\\n\", dist_matrix)"
   ]
  },
  {
   "cell_type": "markdown",
   "id": "0a3a3246",
   "metadata": {},
   "source": [
    "### Perform Agglomerative Clustering (linkage)"
   ]
  },
  {
   "cell_type": "code",
   "execution_count": 4,
   "id": "8c345454",
   "metadata": {},
   "outputs": [
    {
     "name": "stdout",
     "output_type": "stream",
     "text": [
      "\n",
      "Linkage Matrix:\n",
      " [[ 3.  5.  1.  2.]\n",
      " [ 2.  4.  2.  2.]\n",
      " [ 0.  1.  4.  2.]\n",
      " [ 7.  8.  9.  4.]\n",
      " [ 6.  9. 25.  6.]]\n"
     ]
    }
   ],
   "source": [
    "# method='single' for single linkage (nearest neighbor)\n",
    "# can also use 'complete', 'average', 'ward'\n",
    "linked = linkage(data, method='complete', metric='euclidean')\n",
    "print(\"\\nLinkage Matrix:\\n\", linked)"
   ]
  },
  {
   "cell_type": "markdown",
   "id": "89d6a266",
   "metadata": {},
   "source": [
    "### Plot Dendrogram"
   ]
  },
  {
   "cell_type": "code",
   "execution_count": 5,
   "id": "de95d36c",
   "metadata": {},
   "outputs": [
    {
     "data": {
      "image/png": "[encoded data removed]",
      "text/plain": [
       "<Figure size 800x400 with 1 Axes>"
      ]
     },
     "metadata": {},
     "output_type": "display_data"
    }
   ],
   "source": [
    "plt.figure(figsize=(8, 4))\n",
    "dendrogram(linked,\n",
    "           labels=data.flatten(),\n",
    "           distance_sort='ascending',\n",
    "           show_leaf_counts=True)\n",
    "plt.title(\"Hierarchical Clustering Dendrogram\")\n",
    "plt.xlabel(\"Data Points\")\n",
    "plt.ylabel(\"Euclidean Distance\")\n",
    "plt.show()"
   ]
  }
 ],
 "metadata": {
  "kernelspec": {
   "display_name": "Python 3",
   "language": "python",
   "name": "python3"
  },
  "language_info": {
   "codemirror_mode": {
    "name": "ipython",
    "version": 3
   },
   "file_extension": ".py",
   "mimetype": "text/x-python",
   "name": "python",
   "nbconvert_exporter": "python",
   "pygments_lexer": "ipython3",
   "version": "3.12.0"
  }
 },
 "nbformat": 4,
 "nbformat_minor": 5
}
