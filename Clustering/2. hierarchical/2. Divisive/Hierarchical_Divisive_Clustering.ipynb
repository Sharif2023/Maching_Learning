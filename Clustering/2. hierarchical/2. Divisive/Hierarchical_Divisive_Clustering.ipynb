{
 "cells": [
  {
   "cell_type": "code",
   "execution_count": 9,
   "id": "242d32ea",
   "metadata": {},
   "outputs": [],
   "source": [
    "import numpy as np\n",
    "import matplotlib.pyplot as plt\n",
    "from scipy.spatial.distance import pdist, squareform"
   ]
  },
  {
   "cell_type": "code",
   "execution_count": 10,
   "id": "ebbc4353",
   "metadata": {},
   "outputs": [],
   "source": [
    "data = np.array([18, 22, 25, 42, 27, 43]).reshape(-1, 1)"
   ]
  },
  {
   "cell_type": "code",
   "execution_count": 11,
   "id": "b7530287",
   "metadata": {},
   "outputs": [
    {
     "name": "stdout",
     "output_type": "stream",
     "text": [
      "Distance Matrix:\n",
      " [[ 0.  4.  7. 24.  9. 25.]\n",
      " [ 4.  0.  3. 20.  5. 21.]\n",
      " [ 7.  3.  0. 17.  2. 18.]\n",
      " [24. 20. 17.  0. 15.  1.]\n",
      " [ 9.  5.  2. 15.  0. 16.]\n",
      " [25. 21. 18.  1. 16.  0.]]\n"
     ]
    }
   ],
   "source": [
    "dist_matrix = squareform(pdist(data, metric='euclidean'))\n",
    "print(\"Distance Matrix:\\n\", dist_matrix)"
   ]
  },
  {
   "cell_type": "markdown",
   "id": "9b4e7bab",
   "metadata": {},
   "source": [
    "### divisive clustering function"
   ]
  },
  {
   "cell_type": "code",
   "execution_count": 12,
   "id": "87b637ab",
   "metadata": {},
   "outputs": [],
   "source": [
    "def divisive_clustering(data_points):\n",
    "    clusters = [list(data_points)]  # start with all points in one cluster\n",
    "    steps = []\n",
    "\n",
    "    while any(len(c) > 1 for c in clusters):\n",
    "        # find cluster with max range\n",
    "        cluster_to_split = max(clusters, key=lambda x: max(x)-min(x))\n",
    "        clusters.remove(cluster_to_split)\n",
    "\n",
    "        # split at midpoint\n",
    "        midpoint = (min(cluster_to_split) + max(cluster_to_split)) / 2\n",
    "        left = [x for x in cluster_to_split if x <= midpoint]\n",
    "        right = [x for x in cluster_to_split if x > midpoint]\n",
    "\n",
    "        clusters.extend([left, right])\n",
    "        steps.append((left, right))\n",
    "\n",
    "    return clusters, steps\n",
    "\n",
    "clusters, steps = divisive_clustering(data)"
   ]
  },
  {
   "cell_type": "markdown",
   "id": "cf8f2412",
   "metadata": {},
   "source": [
    "### step by step split"
   ]
  },
  {
   "cell_type": "code",
   "execution_count": 13,
   "id": "39ccc8c5",
   "metadata": {},
   "outputs": [
    {
     "name": "stdout",
     "output_type": "stream",
     "text": [
      "\n",
      "Divisive Clustering Steps:\n",
      "Step 1: Split into [array([18]), array([22]), array([25]), array([27])] and [array([42]), array([43])]\n",
      "Step 2: Split into [array([18]), array([22])] and [array([25]), array([27])]\n",
      "Step 3: Split into [array([18])] and [array([22])]\n",
      "Step 4: Split into [array([25])] and [array([27])]\n",
      "Step 5: Split into [array([42])] and [array([43])]\n"
     ]
    }
   ],
   "source": [
    "print(\"\\nDivisive Clustering Steps:\")\n",
    "for i, (left, right) in enumerate(steps, 1):\n",
    "    print(f\"Step {i}: Split into {left} and {right}\")\n"
   ]
  },
  {
   "cell_type": "markdown",
   "id": "752de899",
   "metadata": {},
   "source": [
    "### visulize dendogram as plot"
   ]
  },
  {
   "cell_type": "code",
   "execution_count": 14,
   "id": "c68d0f26",
   "metadata": {},
   "outputs": [
    {
     "data": {
      "image/png": "[encoded data removed]",
      "text/plain": [
       "<Figure size 800x400 with 1 Axes>"
      ]
     },
     "metadata": {},
     "output_type": "display_data"
    }
   ],
   "source": [
    "def plot_divisive_dendrogram(steps):\n",
    "    fig, ax = plt.subplots(figsize=(8,4))\n",
    "    y = 0\n",
    "    for i, (left, right) in enumerate(steps):\n",
    "        # plot vertical lines\n",
    "        ax.plot([i, i], [y, y+1], 'k-')\n",
    "        # plot horizontal lines for left and right clusters\n",
    "        ax.plot([i, i+1], [y+1, y+1], 'k-')\n",
    "        ax.plot([i, i+1], [y, y], 'k-')\n",
    "        y += 1\n",
    "    ax.set_title(\"Divisive Clustering Visualization (Simplified)\")\n",
    "    plt.show()\n",
    "\n",
    "plot_divisive_dendrogram(steps)"
   ]
  },
  {
   "cell_type": "markdown",
   "id": "cffc5d34",
   "metadata": {},
   "source": []
  }
 ],
 "metadata": {
  "kernelspec": {
   "display_name": "Python 3",
   "language": "python",
   "name": "python3"
  },
  "language_info": {
   "codemirror_mode": {
    "name": "ipython",
    "version": 3
   },
   "file_extension": ".py",
   "mimetype": "text/x-python",
   "name": "python",
   "nbconvert_exporter": "python",
   "pygments_lexer": "ipython3",
   "version": "3.12.0"
  }
 },
 "nbformat": 4,
 "nbformat_minor": 5
}
